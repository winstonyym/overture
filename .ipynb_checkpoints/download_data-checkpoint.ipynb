{
 "cells": [
  {
   "cell_type": "code",
   "execution_count": null,
   "id": "6827039d-88e6-4174-88fd-4c1c2c17c4e9",
   "metadata": {},
   "outputs": [],
   "source": [
    "# Import libraries\n",
    "import boto3\n",
    "import json\n",
    "import os"
   ]
  },
  {
   "cell_type": "code",
   "execution_count": null,
   "id": "a5b3b46c-3a6b-4b5c-ad89-931f7e4e3a73",
   "metadata": {},
   "outputs": [],
   "source": [
    "# Load secret key\n",
    "with open('API.json') as f:\n",
    "    info = json.load(f)\n",
    "    \n",
    "print(info.keys())"
   ]
  },
  {
   "cell_type": "code",
   "execution_count": null,
   "id": "7b3b3d96-bdae-4052-9b0e-1c582259fb02",
   "metadata": {},
   "outputs": [],
   "source": [
    "# Get Boto3 client \n",
    "s3 = boto3.client('s3', aws_access_key_id=info['access'], aws_secret_access_key=info['secret'])\n",
    "response = s3.list_objects(Bucket=info['bucket'])"
   ]
  },
  {
   "cell_type": "code",
   "execution_count": null,
   "id": "8523d79c-d695-499a-9f8b-732000b640b9",
   "metadata": {},
   "outputs": [],
   "source": [
    "path = './buildings_data'\n",
    "if not os.path.exists(path):\n",
    "    os.makedirs(path)"
   ]
  },
  {
   "cell_type": "code",
   "execution_count": null,
   "id": "31af2b2e-5954-4724-9e25-0f9599eba6c6",
   "metadata": {},
   "outputs": [],
   "source": [
    "for key in response['Contents']:\n",
    "    if 'theme=buildings' in key['Key']:\n",
    "        s3.download_file(info['bucket'], key['Key'], f\"{path}/{key['Key'].split('-')[-1]}\")\n",
    "        print(f\"Downloaded: {key['Key'].split('-')[-1]}\")\n",
    "    # s3.download_file(info['bucket'], key['Key'], f'{\"\".join(key[\"Key\"].split(\"/\")[-1].split(\"_\")[-3:])}')\n",
    "    # print(f'{\"\".join(key[\"Key\"].split(\"/\")[-1].split(\"_\")[-3:])}')"
   ]
  },
  {
   "cell_type": "code",
   "execution_count": null,
   "id": "7185ca1e-ae5a-4da4-97c3-bd6e74504a62",
   "metadata": {},
   "outputs": [],
   "source": []
  }
 ],
 "metadata": {
  "kernelspec": {
   "display_name": "overture",
   "language": "python",
   "name": "overture"
  },
  "language_info": {
   "codemirror_mode": {
    "name": "ipython",
    "version": 3
   },
   "file_extension": ".py",
   "mimetype": "text/x-python",
   "name": "python",
   "nbconvert_exporter": "python",
   "pygments_lexer": "ipython3",
   "version": "3.9.12"
  }
 },
 "nbformat": 4,
 "nbformat_minor": 5
}
